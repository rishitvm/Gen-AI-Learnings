{
 "cells": [
  {
   "cell_type": "code",
   "execution_count": 1,
   "id": "8753f708",
   "metadata": {},
   "outputs": [],
   "source": [
    "import torch\n",
    "import numpy as np"
   ]
  },
  {
   "cell_type": "code",
   "execution_count": null,
   "id": "1ab21d2d",
   "metadata": {},
   "outputs": [
    {
     "data": {
      "text/plain": [
       "torch.Size([10, 512])"
      ]
     },
     "execution_count": 3,
     "metadata": {},
     "output_type": "execute_result"
    }
   ],
   "source": [
    "# As of now take some random weights\n",
    "\n",
    "embeddings = torch.rand(size = (10,512), dtype = torch.float32)\n",
    "embeddings.shape"
   ]
  },
  {
   "cell_type": "code",
   "execution_count": null,
   "id": "d313b73f",
   "metadata": {},
   "outputs": [
    {
     "data": {
      "text/plain": [
       "torch.Size([3, 512])"
      ]
     },
     "execution_count": 6,
     "metadata": {},
     "output_type": "execute_result"
    }
   ],
   "source": [
    "# Take a random latent space\n",
    "\n",
    "latent_space = torch.rand(size = (3,512), dtype = torch.float32)\n",
    "latent_space.shape"
   ]
  },
  {
   "cell_type": "code",
   "execution_count": null,
   "id": "894bf8ca",
   "metadata": {},
   "outputs": [
    {
     "name": "stdout",
     "output_type": "stream",
     "text": [
      "torch.Size([10, 512])\n",
      "torch.Size([3, 512])\n",
      "torch.Size([3, 512])\n",
      "torch.Size([10, 512])\n",
      "torch.Size([10, 512])\n",
      "torch.Size([3, 10])\n",
      "torch.Size([3, 10])\n",
      "torch.Size([3, 512])\n"
     ]
    }
   ],
   "source": [
    "import math\n",
    "\n",
    "head_dim = 512\n",
    "W_q = torch.rand(size = (512,512), dtype = torch.float32)\n",
    "W_k = torch.rand(size = (512,512), dtype = torch.float32)\n",
    "W_v = torch.rand(size = (512,512), dtype = torch.float32)\n",
    "\n",
    "Q = latent_space @ W_q                                     # Compute Q.L\n",
    "K = embeddings @ W_k                                       # Compute Embeddings.K\n",
    "V = embeddings @ W_v                                       # Compute Embeddings.V\n",
    "\n",
    "attn_score = (Q @ K.T) / math.sqrt(head_dim)               # Perform Self Attention (reason to divide by head_dim size is to reduce the variance)\n",
    "temp = torch.softmax(attn_score, dim = -1)\n",
    "final_output = temp @ V\n",
    "\n",
    "print(embeddings.shape)\n",
    "print(latent_space.shape)\n",
    "print(Q.shape)\n",
    "print(K.shape)\n",
    "print(V.shape)\n",
    "print(attn_score.shape)\n",
    "print(temp.shape)\n",
    "print(final_output.shape)"
   ]
  }
 ],
 "metadata": {
  "kernelspec": {
   "display_name": "Python 3",
   "language": "python",
   "name": "python3"
  },
  "language_info": {
   "codemirror_mode": {
    "name": "ipython",
    "version": 3
   },
   "file_extension": ".py",
   "mimetype": "text/x-python",
   "name": "python",
   "nbconvert_exporter": "python",
   "pygments_lexer": "ipython3",
   "version": "3.12.6"
  }
 },
 "nbformat": 4,
 "nbformat_minor": 5
}
