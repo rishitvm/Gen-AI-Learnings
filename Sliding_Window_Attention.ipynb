{
 "cells": [
  {
   "cell_type": "code",
   "execution_count": 1,
   "id": "be85e1ca",
   "metadata": {},
   "outputs": [],
   "source": [
    "import torch\n",
    "import numpy as np\n",
    "import math"
   ]
  },
  {
   "cell_type": "code",
   "execution_count": null,
   "id": "cb4164db",
   "metadata": {},
   "outputs": [
    {
     "data": {
      "text/plain": [
       "torch.Size([10, 512])"
      ]
     },
     "execution_count": 4,
     "metadata": {},
     "output_type": "execute_result"
    }
   ],
   "source": [
    "# To demonstrate let the sliding window = 3\n",
    "\n",
    "embeddings = torch.rand(size = (10,512), dtype = torch.float32)\n",
    "window_size = 3\n",
    "embeddings.shape"
   ]
  },
  {
   "cell_type": "code",
   "execution_count": null,
   "id": "67205ee5",
   "metadata": {},
   "outputs": [],
   "source": [
    "# Define a function for computing Self Attention\n",
    "\n",
    "def self_attention(Q,K,V,d_dim):\n",
    "    attn_score = (Q @ K.T) / math.sqrt(d_dim)\n",
    "    temp = torch.softmax(attn_score, dim = -1)\n",
    "    final_output = temp @ V\n",
    "    return final_output"
   ]
  },
  {
   "cell_type": "code",
   "execution_count": null,
   "id": "831fa72e",
   "metadata": {},
   "outputs": [],
   "source": [
    "head_dim = 512                                                 # Let the head dimension be 512\n",
    "W_q = torch.rand(size = (512,512), dtype = torch.float32)      # Assume random weights for Wq, Wk, Wv matrices\n",
    "W_k = torch.rand(size = (512,512), dtype = torch.float32)\n",
    "W_v = torch.rand(size = (512,512), dtype = torch.float32)\n",
    "\n",
    "Q = embeddings @ W_q                                           # Perform Linear Projection to get Q, K ,V Matrices\n",
    "K = embeddings @ W_k\n",
    "V = embeddings @ W_v\n",
    "\n",
    "final_embeddings = []\n",
    "\n",
    "for i,x in enumerate(Q):                                       # Accumulate only the outputs from Q,K,V according to the size of Sliding Window\n",
    "    inter_k_matrix = []\n",
    "    inter_v_matrix = []\n",
    "    if i == 0:\n",
    "        inter_k_matrix = K[:2,:]\n",
    "        inter_v_matrix = V[:2,:]\n",
    "    elif i == len(Q)-1:\n",
    "        inter_k_matrix = K[-2:,:]\n",
    "        inter_v_matrix = V[-2:,:]\n",
    "    else:\n",
    "        inter_k_matrix = K[(i-1):(i+2),:]\n",
    "        inter_v_matrix = V[(i-1):(i+2),:]\n",
    "    final_embeddings.append(self_attention(x,inter_k_matrix,inter_v_matrix,head_dim))\n",
    "final_embeddings = np.array(final_embeddings)"
   ]
  },
  {
   "cell_type": "code",
   "execution_count": 14,
   "id": "afa78371",
   "metadata": {},
   "outputs": [
    {
     "data": {
      "text/plain": [
       "(10, 512)"
      ]
     },
     "execution_count": 14,
     "metadata": {},
     "output_type": "execute_result"
    }
   ],
   "source": [
    "final_embeddings.shape"
   ]
  }
 ],
 "metadata": {
  "kernelspec": {
   "display_name": "Python 3",
   "language": "python",
   "name": "python3"
  },
  "language_info": {
   "codemirror_mode": {
    "name": "ipython",
    "version": 3
   },
   "file_extension": ".py",
   "mimetype": "text/x-python",
   "name": "python",
   "nbconvert_exporter": "python",
   "pygments_lexer": "ipython3",
   "version": "3.12.6"
  }
 },
 "nbformat": 4,
 "nbformat_minor": 5
}
